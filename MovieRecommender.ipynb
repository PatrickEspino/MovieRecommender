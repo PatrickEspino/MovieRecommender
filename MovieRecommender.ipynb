{
 "cells": [
  {
   "cell_type": "code",
   "execution_count": 1,
   "metadata": {},
   "outputs": [],
   "source": [
    "import pyspark\n",
    "from pyspark import SparkConf\n",
    "from pyspark.context import SparkContext\n",
    "from pyspark.sql import SparkSession\n",
    "from pyspark.sql import functions as f\n",
    "from pyspark.sql.functions import col,isnan, when, count\n",
    "from pyspark.sql.types import *\n",
    "import time"
   ]
  },
  {
   "cell_type": "code",
   "execution_count": 2,
   "metadata": {},
   "outputs": [],
   "source": [
    "import findspark\n",
    "findspark.init()"
   ]
  },
  {
   "cell_type": "code",
   "execution_count": 3,
   "metadata": {},
   "outputs": [],
   "source": [
    "conf = SparkConf()\n",
    "conf.set('spark.driver.cores', 6)\n",
    "conf.set('spark.executor.cores',6)\n",
    "conf.set('spark.executor.instances', 8)\n",
    "conf.set('spark.driver.memory', '4g')\n",
    "conf.set('spark.default.parallelism', 6)\n",
    "conf.setMaster('local').setAppName('MovieRecommender')\n",
    "sc = SparkContext(conf = conf)"
   ]
  },
  {
   "cell_type": "code",
   "execution_count": 4,
   "metadata": {},
   "outputs": [],
   "source": [
    "spark = SparkSession.builder.getOrCreate()"
   ]
  },
  {
   "cell_type": "code",
   "execution_count": 5,
   "metadata": {},
   "outputs": [
    {
     "data": {
      "text/plain": [
       "'local'"
      ]
     },
     "execution_count": 5,
     "metadata": {},
     "output_type": "execute_result"
    }
   ],
   "source": [
    "sc.master"
   ]
  },
  {
   "cell_type": "code",
   "execution_count": 6,
   "metadata": {},
   "outputs": [
    {
     "name": "stdout",
     "output_type": "stream",
     "text": [
      "6\n"
     ]
    }
   ],
   "source": [
    "print(sc.defaultParallelism)"
   ]
  },
  {
   "cell_type": "code",
   "execution_count": 7,
   "metadata": {},
   "outputs": [
    {
     "name": "stdout",
     "output_type": "stream",
     "text": [
      "Cluster Manager local\n",
      "Cores 6\n",
      "Memory per Driver: 4g\n"
     ]
    }
   ],
   "source": [
    "print('Cluster Manager', conf.get('spark.master'))\n",
    "print('Cores', conf.get('spark.executor.cores'))\n",
    "print('Memory per Driver:', conf.get('spark.driver.memory'))"
   ]
  },
  {
   "cell_type": "code",
   "execution_count": 8,
   "metadata": {},
   "outputs": [],
   "source": [
    "movies_df = spark.read.option('header', True).csv('ml-latest/movies.csv')"
   ]
  },
  {
   "cell_type": "code",
   "execution_count": 9,
   "metadata": {},
   "outputs": [
    {
     "name": "stdout",
     "output_type": "stream",
     "text": [
      "+-------+--------------------+--------------------+\n",
      "|movieId|               title|              genres|\n",
      "+-------+--------------------+--------------------+\n",
      "|      1|    Toy Story (1995)|Adventure|Animati...|\n",
      "|      2|      Jumanji (1995)|Adventure|Childre...|\n",
      "|      3|Grumpier Old Men ...|      Comedy|Romance|\n",
      "|      4|Waiting to Exhale...|Comedy|Drama|Romance|\n",
      "|      5|Father of the Bri...|              Comedy|\n",
      "|      6|         Heat (1995)|Action|Crime|Thri...|\n",
      "|      7|      Sabrina (1995)|      Comedy|Romance|\n",
      "|      8| Tom and Huck (1995)|  Adventure|Children|\n",
      "|      9| Sudden Death (1995)|              Action|\n",
      "|     10|    GoldenEye (1995)|Action|Adventure|...|\n",
      "|     11|American Presiden...|Comedy|Drama|Romance|\n",
      "|     12|Dracula: Dead and...|       Comedy|Horror|\n",
      "|     13|        Balto (1995)|Adventure|Animati...|\n",
      "|     14|        Nixon (1995)|               Drama|\n",
      "|     15|Cutthroat Island ...|Action|Adventure|...|\n",
      "|     16|       Casino (1995)|         Crime|Drama|\n",
      "|     17|Sense and Sensibi...|       Drama|Romance|\n",
      "|     18|   Four Rooms (1995)|              Comedy|\n",
      "|     19|Ace Ventura: When...|              Comedy|\n",
      "|     20|  Money Train (1995)|Action|Comedy|Cri...|\n",
      "+-------+--------------------+--------------------+\n",
      "only showing top 20 rows\n",
      "\n"
     ]
    }
   ],
   "source": [
    "movies_df.show()"
   ]
  },
  {
   "cell_type": "code",
   "execution_count": 10,
   "metadata": {},
   "outputs": [
    {
     "name": "stdout",
     "output_type": "stream",
     "text": [
      "+--------------------+\n",
      "|               title|\n",
      "+--------------------+\n",
      "|Grumpier Old Men ...|\n",
      "+--------------------+\n",
      "\n"
     ]
    }
   ],
   "source": [
    "movies_df.filter('movieId == 3').select('title').show()"
   ]
  },
  {
   "cell_type": "code",
   "execution_count": 11,
   "metadata": {},
   "outputs": [
    {
     "name": "stdout",
     "output_type": "stream",
     "text": [
      "+-------+------------------+--------------------+------------------+\n",
      "|summary|           movieId|               title|            genres|\n",
      "+-------+------------------+--------------------+------------------+\n",
      "|  count|             58098|               58098|             58098|\n",
      "|   mean|111919.51619677097|                null|              null|\n",
      "| stddev|59862.660955928804|                null|              null|\n",
      "|    min|                 1|\"\"\"Great Performa...|(no genres listed)|\n",
      "|    25%|           72424.0|                null|              null|\n",
      "|    50%|          126510.0|                null|              null|\n",
      "|    75%|          161438.0|                null|              null|\n",
      "|    max|             99999|     줄탁동시 (2012)|           Western|\n",
      "+-------+------------------+--------------------+------------------+\n",
      "\n"
     ]
    }
   ],
   "source": [
    "movies_df.summary().show()"
   ]
  },
  {
   "cell_type": "code",
   "execution_count": 12,
   "metadata": {},
   "outputs": [],
   "source": [
    "ratings_df = spark.read.option('header', True).csv('ml-latest/ratings.csv')"
   ]
  },
  {
   "cell_type": "code",
   "execution_count": 13,
   "metadata": {},
   "outputs": [
    {
     "name": "stdout",
     "output_type": "stream",
     "text": [
      "+------+-------+------+----------+\n",
      "|userId|movieId|rating| timestamp|\n",
      "+------+-------+------+----------+\n",
      "|     1|    307|   3.5|1256677221|\n",
      "|     1|    481|   3.5|1256677456|\n",
      "|     1|   1091|   1.5|1256677471|\n",
      "|     1|   1257|   4.5|1256677460|\n",
      "|     1|   1449|   4.5|1256677264|\n",
      "|     1|   1590|   2.5|1256677236|\n",
      "|     1|   1591|   1.5|1256677475|\n",
      "|     1|   2134|   4.5|1256677464|\n",
      "|     1|   2478|   4.0|1256677239|\n",
      "|     1|   2840|   3.0|1256677500|\n",
      "|     1|   2986|   2.5|1256677496|\n",
      "|     1|   3020|   4.0|1256677260|\n",
      "|     1|   3424|   4.5|1256677444|\n",
      "|     1|   3698|   3.5|1256677243|\n",
      "|     1|   3826|   2.0|1256677210|\n",
      "|     1|   3893|   3.5|1256677486|\n",
      "|     2|    170|   3.5|1192913581|\n",
      "|     2|    849|   3.5|1192913537|\n",
      "|     2|   1186|   3.5|1192913611|\n",
      "|     2|   1235|   3.0|1192913585|\n",
      "+------+-------+------+----------+\n",
      "only showing top 20 rows\n",
      "\n"
     ]
    }
   ],
   "source": [
    "ratings_df.show()"
   ]
  },
  {
   "cell_type": "code",
   "execution_count": 14,
   "metadata": {},
   "outputs": [
    {
     "name": "stdout",
     "output_type": "stream",
     "text": [
      "+-------+------------------+-----------------+------------------+--------------------+\n",
      "|summary|            userId|          movieId|            rating|           timestamp|\n",
      "+-------+------------------+-----------------+------------------+--------------------+\n",
      "|  count|          27753444|         27753444|          27753444|            27753444|\n",
      "|   mean|141942.01557064414|18487.99983414671|3.5304452124932677|1.1931218549319255E9|\n",
      "| stddev| 81707.40009148893|35102.62524746777|1.0663527502319803|2.1604822852233458E8|\n",
      "|    min|                 1|                1|               0.5|          1000000065|\n",
      "|    25%|           71210.0|           1099.0|               3.0|        9.98614809E8|\n",
      "|    50%|          142009.0|           2716.0|               3.5|       1.174252114E9|\n",
      "|    75%|          212470.0|           7151.0|               4.0|       1.422730806E9|\n",
      "|    max|             99999|            99999|               5.0|           999999978|\n",
      "+-------+------------------+-----------------+------------------+--------------------+\n",
      "\n"
     ]
    }
   ],
   "source": [
    "ratings_df.summary().show()"
   ]
  },
  {
   "cell_type": "code",
   "execution_count": 15,
   "metadata": {},
   "outputs": [],
   "source": [
    "movielens = movies_df.join(ratings_df, ['movieId'],'left')"
   ]
  },
  {
   "cell_type": "code",
   "execution_count": null,
   "metadata": {},
   "outputs": [],
   "source": [
    "# movielens.summary().show()"
   ]
  },
  {
   "cell_type": "code",
   "execution_count": 16,
   "metadata": {},
   "outputs": [
    {
     "name": "stdout",
     "output_type": "stream",
     "text": [
      "root\n",
      " |-- movieId: string (nullable = true)\n",
      " |-- title: string (nullable = true)\n",
      " |-- genres: string (nullable = true)\n",
      " |-- userId: string (nullable = true)\n",
      " |-- rating: string (nullable = true)\n",
      " |-- timestamp: string (nullable = true)\n",
      "\n"
     ]
    }
   ],
   "source": [
    "movielens.printSchema()"
   ]
  },
  {
   "cell_type": "code",
   "execution_count": 17,
   "metadata": {},
   "outputs": [],
   "source": [
    "from pyspark.sql.types import IntegerType\n",
    "movielens = movielens.withColumn('userId', movielens['userId'].cast(IntegerType()))\n",
    "movielens = movielens.withColumn('rating', movielens['rating'].cast(IntegerType()))\n",
    "movielens = movielens.withColumn('movieId', movielens['movieId'].cast(IntegerType()))"
   ]
  },
  {
   "cell_type": "code",
   "execution_count": 18,
   "metadata": {},
   "outputs": [
    {
     "name": "stdout",
     "output_type": "stream",
     "text": [
      "root\n",
      " |-- movieId: integer (nullable = true)\n",
      " |-- title: string (nullable = true)\n",
      " |-- genres: string (nullable = true)\n",
      " |-- userId: integer (nullable = true)\n",
      " |-- rating: integer (nullable = true)\n",
      " |-- timestamp: string (nullable = true)\n",
      "\n"
     ]
    }
   ],
   "source": [
    "movielens.printSchema()"
   ]
  },
  {
   "cell_type": "code",
   "execution_count": 19,
   "metadata": {},
   "outputs": [
    {
     "data": {
      "text/plain": [
       "['movieId', 'title', 'genres', 'userId', 'rating', 'timestamp']"
      ]
     },
     "execution_count": 19,
     "metadata": {},
     "output_type": "execute_result"
    }
   ],
   "source": [
    "movielens.columns"
   ]
  },
  {
   "cell_type": "code",
   "execution_count": 20,
   "metadata": {},
   "outputs": [],
   "source": [
    "movielens.createOrReplaceTempView('Movies')"
   ]
  },
  {
   "cell_type": "code",
   "execution_count": 21,
   "metadata": {},
   "outputs": [
    {
     "name": "stdout",
     "output_type": "stream",
     "text": [
      "+-------+--------------------+------+------+------+----------+\n",
      "|movieId|               title|genres|userId|rating| timestamp|\n",
      "+-------+--------------------+------+------+------+----------+\n",
      "|   1425|Fierce Creatures ...|Comedy|     4|     5|1113796433|\n",
      "|    141|Birdcage, The (1996)|Comedy|     6|     5| 832039987|\n",
      "|    141|Birdcage, The (1996)|Comedy|     8|     5| 858269303|\n",
      "|    223|       Clerks (1994)|Comedy|    10|     5| 948883834|\n",
      "|   1202| Withnail & I (1987)|Comedy|    10|     5| 948967730|\n",
      "|   1288|This Is Spinal Ta...|Comedy|    10|     5| 948887548|\n",
      "|  86377|Louis C.K.: Shame...|Comedy|    15|     5|1370809693|\n",
      "|  92535|Louis C.K.: Live ...|Comedy|    15|     5|1370809690|\n",
      "|    348|Bullets Over Broa...|Comedy|    16|     5| 829558966|\n",
      "|    223|       Clerks (1994)|Comedy|    18|     5| 845061796|\n",
      "|    305|Ready to Wear (Pr...|Comedy|    19|     5| 836434015|\n",
      "|   2791|    Airplane! (1980)|Comedy|    26|     5|1225232932|\n",
      "|   2792|Airplane II: The ...|Comedy|    26|     5|1225232398|\n",
      "|    663|Kids in the Hall:...|Comedy|    31|     5| 968887153|\n",
      "|   1285|     Heathers (1989)|Comedy|    31|     5| 968887551|\n",
      "|   2918|Ferris Bueller's ...|Comedy|    31|     5| 968887414|\n",
      "|  86833|  Bridesmaids (2011)|Comedy|    34|     5|1472946562|\n",
      "|   2918|Ferris Bueller's ...|Comedy|    38|     5| 979742421|\n",
      "|   2918|Ferris Bueller's ...|Comedy|    43|     5|1084579368|\n",
      "|   3421| Animal House (1978)|Comedy|    43|     5|1084489834|\n",
      "+-------+--------------------+------+------+------+----------+\n",
      "only showing top 20 rows\n",
      "\n"
     ]
    }
   ],
   "source": [
    "spark.sql('select * from Movies where genres == \"Comedy\" AND rating == 5').show()"
   ]
  },
  {
   "cell_type": "code",
   "execution_count": 22,
   "metadata": {},
   "outputs": [
    {
     "name": "stdout",
     "output_type": "stream",
     "text": [
      "+-------+--------------------+-------+------+------+----------+\n",
      "|movieId|               title| genres|userId|rating| timestamp|\n",
      "+-------+--------------------+-------+------+------+----------+\n",
      "| 103368|Love and Lemons (...|Romance| 14691|     3|1414780445|\n",
      "| 103368|Love and Lemons (...|Romance| 42010|     2|1485195310|\n",
      "| 103368|Love and Lemons (...|Romance| 52165|     3|1372604722|\n",
      "| 103368|Love and Lemons (...|Romance| 70515|     2|1492007380|\n",
      "| 103368|Love and Lemons (...|Romance|123100|     3|1450162851|\n",
      "| 103368|Love and Lemons (...|Romance|196235|     4|1467276663|\n",
      "| 103368|Love and Lemons (...|Romance|223722|     3|1415377399|\n",
      "| 103368|Love and Lemons (...|Romance|226489|     2|1492007403|\n",
      "| 103368|Love and Lemons (...|Romance|231746|     4|1528923070|\n",
      "| 104472|    Find Love (2006)|Romance| 48470|     2|1377417309|\n",
      "|   1159|Love in Bloom (1935)|Romance|  1364|     1| 948395874|\n",
      "|   1159|Love in Bloom (1935)|Romance|  7642|     5| 964650020|\n",
      "|   1159|Love in Bloom (1935)|Romance|  8184|     3| 945140082|\n",
      "|   1159|Love in Bloom (1935)|Romance| 43657|     3| 945152998|\n",
      "|   1159|Love in Bloom (1935)|Romance| 64180|     3|1035144393|\n",
      "|   1159|Love in Bloom (1935)|Romance| 69512|     3| 845156212|\n",
      "|   1159|Love in Bloom (1935)|Romance| 93045|     2|1159069712|\n",
      "|   1159|Love in Bloom (1935)|Romance| 94830|     3|1048345979|\n",
      "|   1159|Love in Bloom (1935)|Romance|100901|     5|1003004820|\n",
      "|   1159|Love in Bloom (1935)|Romance|117490|     3|1032022622|\n",
      "+-------+--------------------+-------+------+------+----------+\n",
      "only showing top 20 rows\n",
      "\n"
     ]
    }
   ],
   "source": [
    "spark.sql('select * from Movies where userId == 1 AND rating == 5 OR genres == \"Romance\"').show()"
   ]
  },
  {
   "cell_type": "code",
   "execution_count": 23,
   "metadata": {},
   "outputs": [
    {
     "name": "stdout",
     "output_type": "stream",
     "text": [
      "[Table(name='movies', database=None, description=None, tableType='TEMPORARY', isTemporary=True)]\n"
     ]
    }
   ],
   "source": [
    "print(spark.catalog.listTables())"
   ]
  },
  {
   "cell_type": "code",
   "execution_count": 24,
   "metadata": {},
   "outputs": [
    {
     "name": "stdout",
     "output_type": "stream",
     "text": [
      "+--------------------+-------+\n",
      "|               title|reviews|\n",
      "+--------------------+-------+\n",
      "|Shawshank Redempt...|  97999|\n",
      "| Forrest Gump (1994)|  97040|\n",
      "| Pulp Fiction (1994)|  92406|\n",
      "|Silence of the La...|  87899|\n",
      "|  Matrix, The (1999)|  84545|\n",
      "|Star Wars: Episod...|  81815|\n",
      "|Jurassic Park (1993)|  76451|\n",
      "|Schindler's List ...|  71516|\n",
      "|   Braveheart (1995)|  68803|\n",
      "|    Toy Story (1995)|  68469|\n",
      "|Star Wars: Episod...|  66023|\n",
      "|Star Wars: Episod...|  65822|\n",
      "|   Fight Club (1999)|  65678|\n",
      "|Terminator 2: Jud...|  64258|\n",
      "|Raiders of the Lo...|  63505|\n",
      "|Usual Suspects, T...|  62180|\n",
      "|Lord of the Rings...|  61883|\n",
      "|Godfather, The (1...|  60904|\n",
      "|American Beauty (...|  60820|\n",
      "|Independence Day ...|  58949|\n",
      "+--------------------+-------+\n",
      "only showing top 20 rows\n",
      "\n"
     ]
    }
   ],
   "source": [
    "#Select movies with the most reviews in descending order\n",
    "query = 'SELECT title, count(*) as reviews from Movies group by title order by reviews desc'\n",
    "spark.sql(query).show()"
   ]
  },
  {
   "cell_type": "code",
   "execution_count": 25,
   "metadata": {},
   "outputs": [
    {
     "name": "stdout",
     "output_type": "stream",
     "text": [
      "Number of different users: 283229\n",
      "Number of different movies: 58098\n",
      "Number of movies with at least on rating strictly higher than 4: 24209\n"
     ]
    }
   ],
   "source": [
    "print('Number of different users: {}'.format(movielens.select('userId').distinct().count()))\n",
    "print('Number of different movies: {}'.format(movielens.select('movieId').distinct().count()))\n",
    "print('Number of movies with at least on rating strictly higher than 4: {}'.format(movielens.filter('rating > 4').select('movieId').distinct().count()))"
   ]
  },
  {
   "cell_type": "code",
   "execution_count": 26,
   "metadata": {},
   "outputs": [
    {
     "name": "stdout",
     "output_type": "stream",
     "text": [
      "Number of movies that are considered Comedy: 15956\n",
      "Number of Comedies that are rated 5: 7552\n"
     ]
    }
   ],
   "source": [
    "print('Number of movies that are considered Comedy: {}'.format(movielens.filter(movielens.genres.contains('Comedy')).select('movieId').distinct().count()))\n",
    "print('Number of Comedies that are rated 5: {}'.format(movielens.filter(movielens.genres.contains('Comedy')).filter('rating == 5').select('movieId').distinct().count()))"
   ]
  },
  {
   "cell_type": "code",
   "execution_count": 27,
   "metadata": {},
   "outputs": [],
   "source": [
    "comedy_df = movielens.filter(movielens.genres.contains('Comedy'))\n",
    "grouped_df = comedy_df.groupBy('title').count()\n",
    "sorted_df = grouped_df.sort(grouped_df['count'].desc())"
   ]
  },
  {
   "cell_type": "code",
   "execution_count": 28,
   "metadata": {},
   "outputs": [
    {
     "name": "stdout",
     "output_type": "stream",
     "text": [
      "+--------------------+-----+\n",
      "|               title|count|\n",
      "+--------------------+-----+\n",
      "| Forrest Gump (1994)|97040|\n",
      "| Pulp Fiction (1994)|92406|\n",
      "|    Toy Story (1995)|68469|\n",
      "|Back to the Futur...|57492|\n",
      "|        Fargo (1996)|54500|\n",
      "|      Aladdin (1992)|51839|\n",
      "|    True Lies (1994)|50864|\n",
      "|        Shrek (2001)|46826|\n",
      "|Ace Ventura: Pet ...|45608|\n",
      "|Men in Black (a.k...|44287|\n",
      "|Princess Bride, T...|42878|\n",
      "|Monty Python and ...|40866|\n",
      "|Groundhog Day (1993)|40836|\n",
      "|Pirates of the Ca...|39674|\n",
      "|    Mask, The (1994)|38699|\n",
      "|Batman Forever (1...|38647|\n",
      "| Pretty Woman (1990)|38504|\n",
      "|Mrs. Doubtfire (1...|38484|\n",
      "|Dumb & Dumber (Du...|37823|\n",
      "|Amelie (Fabuleux ...|37167|\n",
      "+--------------------+-----+\n",
      "only showing top 20 rows\n",
      "\n"
     ]
    }
   ],
   "source": [
    "sorted_df.show()"
   ]
  },
  {
   "cell_type": "code",
   "execution_count": 29,
   "metadata": {},
   "outputs": [
    {
     "name": "stdout",
     "output_type": "stream",
     "text": [
      "Movie that has the most 5 star rating: Forrest Gump (1994)\n"
     ]
    }
   ],
   "source": [
    "first_row = sorted_df.first()\n",
    "print('Movie that has the most 5 star rating: {}'.format(first_row.title))"
   ]
  },
  {
   "cell_type": "code",
   "execution_count": 30,
   "metadata": {},
   "outputs": [
    {
     "name": "stdout",
     "output_type": "stream",
     "text": [
      "Movie that has the most 1 star rating: Ace Ventura: Pet Detective (1994)\n"
     ]
    }
   ],
   "source": [
    "#Movie that has the most 1 star rating\n",
    "one_df = movielens.filter('rating == 1.0')\n",
    "rat_df = one_df.groupBy('rating', 'title').count()\n",
    "sort_rat_df = rat_df.sort(rat_df['count'].desc())\n",
    "worst_mov = sort_rat_df.first().title\n",
    "print('Movie that has the most 1 star rating: {}'.format(worst_mov))"
   ]
  },
  {
   "cell_type": "code",
   "execution_count": null,
   "metadata": {},
   "outputs": [],
   "source": []
  },
  {
   "cell_type": "code",
   "execution_count": 31,
   "metadata": {},
   "outputs": [],
   "source": [
    "import seaborn as sns\n",
    "import matplotlib.pyplot as plt"
   ]
  },
  {
   "cell_type": "code",
   "execution_count": 32,
   "metadata": {},
   "outputs": [
    {
     "data": {
      "image/png": "[encoded data removed]",
      "text/plain": [
       "<Figure size 432x288 with 1 Axes>"
      ]
     },
     "metadata": {
      "needs_background": "light"
     },
     "output_type": "display_data"
    }
   ],
   "source": [
    "ratings_hist = (movielens.groupBy(col('rating')).count().sort(col('rating').asc())).toPandas()\n",
    "ratings_hist.plot.bar('rating', 'count')\n",
    "plt.title('Distribution of User Ratings')\n",
    "plt.xlabel('Rating')\n",
    "plt.ylabel('Count of User Ratings')\n",
    "plt.legend().remove()\n",
    "plt.show()"
   ]
  },
  {
   "cell_type": "code",
   "execution_count": 33,
   "metadata": {},
   "outputs": [],
   "source": [
    "avg_genre_rating = (movielens.select('movieId', 'userId', 'genres', 'rating').withColumn('genres_array', f.split('genres', '\\|')).withColumn('genre', f.explode('genres_array')).groupBy('genre').agg(f.mean(f.col('rating')).alias('genre_rating'),f.countDistinct('movieId').alias('num_movies'),f.countDistinct('movieId','userId').alias('num_ratings'))).toPandas()"
   ]
  },
  {
   "cell_type": "code",
   "execution_count": 34,
   "metadata": {},
   "outputs": [
    {
     "data": {
      "text/plain": [
       "Text(0.5, 1.0, 'Visualizing Number of Movies for Each Genre')"
      ]
     },
     "execution_count": 34,
     "metadata": {},
     "output_type": "execute_result"
    },
    {
     "data": {
      "image/png": "[encoded data removed]",
      "text/plain": [
       "<Figure size 432x288 with 1 Axes>"
      ]
     },
     "metadata": {
      "needs_background": "light"
     },
     "output_type": "display_data"
    },
    {
     "data": {
      "image/png": "[encoded data removed]",
      "text/plain": [
       "<Figure size 432x288 with 1 Axes>"
      ]
     },
     "metadata": {
      "needs_background": "light"
     },
     "output_type": "display_data"
    },
    {
     "data": {
      "image/png": "[encoded data removed]",
      "text/plain": [
       "<Figure size 432x288 with 1 Axes>"
      ]
     },
     "metadata": {
      "needs_background": "light"
     },
     "output_type": "display_data"
    }
   ],
   "source": [
    "avg_genre_rating.plot.barh('genre', 'genre_rating')\n",
    "plt.title('Visualizing Average Rating for Each Genre')\n",
    "avg_genre_rating.plot.barh('genre', 'num_ratings')\n",
    "plt.title('Visualizing Number of Ratings for Each Genre')\n",
    "avg_genre_rating.plot.barh('genre', 'num_movies')\n",
    "plt.title('Visualizing Number of Movies for Each Genre')"
   ]
  },
  {
   "cell_type": "code",
   "execution_count": 35,
   "metadata": {},
   "outputs": [],
   "source": [
    "#Release Year\n",
    "release_year_rating = (movielens.select('title', 'movieId', 'userId', 'rating').withColumn('releaseyear', f.substring('title',-5,4)).filter(f.col('releaseyear')>1900).groupBy('releaseyear').agg(f.mean(f.col('rating')).alias('avg_rating'),f.countDistinct('movieId').alias('num_movies'),f.countDistinct('movieId','userId').alias('num_ratings'))).toPandas()"
   ]
  },
  {
   "cell_type": "code",
   "execution_count": 36,
   "metadata": {},
   "outputs": [
    {
     "data": {
      "text/html": [
       "<div>\n",
       "<style scoped>\n",
       "    .dataframe tbody tr th:only-of-type {\n",
       "        vertical-align: middle;\n",
       "    }\n",
       "\n",
       "    .dataframe tbody tr th {\n",
       "        vertical-align: top;\n",
       "    }\n",
       "\n",
       "    .dataframe thead th {\n",
       "        text-align: right;\n",
       "    }\n",
       "</style>\n",
       "<table border=\"1\" class=\"dataframe\">\n",
       "  <thead>\n",
       "    <tr style=\"text-align: right;\">\n",
       "      <th></th>\n",
       "      <th>releaseyear</th>\n",
       "      <th>avg_rating</th>\n",
       "      <th>num_movies</th>\n",
       "      <th>num_ratings</th>\n",
       "    </tr>\n",
       "  </thead>\n",
       "  <tbody>\n",
       "    <tr>\n",
       "      <th>101</th>\n",
       "      <td>2015</td>\n",
       "      <td>3.354489</td>\n",
       "      <td>2311</td>\n",
       "      <td>278900</td>\n",
       "    </tr>\n",
       "    <tr>\n",
       "      <th>22</th>\n",
       "      <td>2014</td>\n",
       "      <td>3.417197</td>\n",
       "      <td>2294</td>\n",
       "      <td>356580</td>\n",
       "    </tr>\n",
       "    <tr>\n",
       "      <th>5</th>\n",
       "      <td>2016</td>\n",
       "      <td>3.323733</td>\n",
       "      <td>2219</td>\n",
       "      <td>204613</td>\n",
       "    </tr>\n",
       "    <tr>\n",
       "      <th>25</th>\n",
       "      <td>2013</td>\n",
       "      <td>3.282195</td>\n",
       "      <td>2173</td>\n",
       "      <td>336980</td>\n",
       "    </tr>\n",
       "    <tr>\n",
       "      <th>7</th>\n",
       "      <td>2012</td>\n",
       "      <td>3.343568</td>\n",
       "      <td>1993</td>\n",
       "      <td>362019</td>\n",
       "    </tr>\n",
       "    <tr>\n",
       "      <th>...</th>\n",
       "      <td>...</td>\n",
       "      <td>...</td>\n",
       "      <td>...</td>\n",
       "      <td>...</td>\n",
       "    </tr>\n",
       "    <tr>\n",
       "      <th>9</th>\n",
       "      <td>1910</td>\n",
       "      <td>2.857143</td>\n",
       "      <td>12</td>\n",
       "      <td>56</td>\n",
       "    </tr>\n",
       "    <tr>\n",
       "      <th>17</th>\n",
       "      <td>1911</td>\n",
       "      <td>3.317073</td>\n",
       "      <td>10</td>\n",
       "      <td>41</td>\n",
       "    </tr>\n",
       "    <tr>\n",
       "      <th>48</th>\n",
       "      <td>1905</td>\n",
       "      <td>2.590909</td>\n",
       "      <td>8</td>\n",
       "      <td>22</td>\n",
       "    </tr>\n",
       "    <tr>\n",
       "      <th>52</th>\n",
       "      <td>1904</td>\n",
       "      <td>3.137931</td>\n",
       "      <td>8</td>\n",
       "      <td>29</td>\n",
       "    </tr>\n",
       "    <tr>\n",
       "      <th>92</th>\n",
       "      <td>1902</td>\n",
       "      <td>3.547196</td>\n",
       "      <td>4</td>\n",
       "      <td>731</td>\n",
       "    </tr>\n",
       "  </tbody>\n",
       "</table>\n",
       "<p>118 rows × 4 columns</p>\n",
       "</div>"
      ],
      "text/plain": [
       "    releaseyear  avg_rating  num_movies  num_ratings\n",
       "101        2015    3.354489        2311       278900\n",
       "22         2014    3.417197        2294       356580\n",
       "5          2016    3.323733        2219       204613\n",
       "25         2013    3.282195        2173       336980\n",
       "7          2012    3.343568        1993       362019\n",
       "..          ...         ...         ...          ...\n",
       "9          1910    2.857143          12           56\n",
       "17         1911    3.317073          10           41\n",
       "48         1905    2.590909           8           22\n",
       "52         1904    3.137931           8           29\n",
       "92         1902    3.547196           4          731\n",
       "\n",
       "[118 rows x 4 columns]"
      ]
     },
     "execution_count": 36,
     "metadata": {},
     "output_type": "execute_result"
    }
   ],
   "source": [
    "release_year_rating.sort_values(by=['num_movies'], ascending = False)"
   ]
  },
  {
   "cell_type": "code",
   "execution_count": 37,
   "metadata": {},
   "outputs": [
    {
     "data": {
      "text/plain": [
       "Text(0.5, 1.0, 'Visualizing Number of Movies vs Release Year')"
      ]
     },
     "execution_count": 37,
     "metadata": {},
     "output_type": "execute_result"
    },
    {
     "data": {
      "image/png": "[encoded data removed]",
      "text/plain": [
       "<Figure size 576x936 with 3 Axes>"
      ]
     },
     "metadata": {
      "needs_background": "light"
     },
     "output_type": "display_data"
    }
   ],
   "source": [
    "plt.figure(figsize = (8,13))\n",
    "plt.subplot(3, 1, 1)\n",
    "plt.scatter(release_year_rating.releaseyear.astype('int64'),release_year_rating.avg_rating)\n",
    "plt.grid(color = 'k', linestyle = '-.', linewidth = 0.5)\n",
    "plt.title('Visualizing Average Rating vs Release Year')\n",
    "plt.subplot(3, 1, 2)\n",
    "plt.scatter(release_year_rating.releaseyear.astype('int64'),release_year_rating.num_ratings)\n",
    "plt.grid(color = 'k', linestyle = '-.', linewidth = 0.5)\n",
    "plt.title('Visualizing Number of Ratings vs Release Year')\n",
    "plt.subplot(3, 1, 3)\n",
    "plt.scatter(release_year_rating.releaseyear.astype('int64'),release_year_rating.num_movies)\n",
    "plt.grid(color = 'k', linestyle = '-.', linewidth = 0.5)\n",
    "plt.title('Visualizing Number of Movies vs Release Year')"
   ]
  },
  {
   "cell_type": "code",
   "execution_count": null,
   "metadata": {},
   "outputs": [],
   "source": []
  },
  {
   "cell_type": "code",
   "execution_count": 38,
   "metadata": {},
   "outputs": [],
   "source": [
    "from pyspark.ml.evaluation import RegressionEvaluator\n",
    "from pyspark.ml.recommendation import ALS"
   ]
  },
  {
   "cell_type": "code",
   "execution_count": 39,
   "metadata": {},
   "outputs": [
    {
     "name": "stdout",
     "output_type": "stream",
     "text": [
      "+-------+------------------+--------------------+------------------+------------------+------------------+--------------------+\n",
      "|summary|           movieId|               title|            genres|            userId|            rating|           timestamp|\n",
      "+-------+------------------+--------------------+------------------+------------------+------------------+--------------------+\n",
      "|  count|          27757653|            27757653|          27757653|          27753444|          27753444|            27753444|\n",
      "|   mean|18507.621371914982|                null|              null|141942.01557064414| 3.385687124091698|1.1931218549319255E9|\n",
      "| stddev|  35137.3348485171|                null|              null| 81707.40009148847|1.1139728783833662|2.1604822852234027E8|\n",
      "|    min|                 1|\"\"\"Great Performa...|(no genres listed)|                 1|                 0|          1000000065|\n",
      "|    25%|              1097|                null|              null|             71175|                 3|        9.98602597E8|\n",
      "|    50%|              2716|                null|              null|            142014|                 3|       1.174247196E9|\n",
      "|    75%|              7153|                null|              null|            212448|                 4|        1.42274354E9|\n",
      "|    max|            193886|     줄탁동시 (2012)|           Western|            283228|                 5|           999999978|\n",
      "+-------+------------------+--------------------+------------------+------------------+------------------+--------------------+\n",
      "\n"
     ]
    }
   ],
   "source": [
    "movielens.summary().show()"
   ]
  },
  {
   "cell_type": "code",
   "execution_count": 40,
   "metadata": {},
   "outputs": [],
   "source": [
    "movielens_df = movielens.filter(movielens.userId.isNotNull())"
   ]
  },
  {
   "cell_type": "code",
   "execution_count": 41,
   "metadata": {},
   "outputs": [],
   "source": [
    "movielens_df = movielens_df.filter(movielens_df.movieId.isNotNull())"
   ]
  },
  {
   "cell_type": "code",
   "execution_count": 42,
   "metadata": {},
   "outputs": [
    {
     "name": "stdout",
     "output_type": "stream",
     "text": [
      "+-------+-----------------+--------------------+------------------+------------------+------------------+--------------------+\n",
      "|summary|          movieId|               title|            genres|            userId|            rating|           timestamp|\n",
      "+-------+-----------------+--------------------+------------------+------------------+------------------+--------------------+\n",
      "|  count|         27753444|            27753444|          27753444|          27753444|          27753444|            27753444|\n",
      "|   mean|18487.99983414671|                null|              null|141942.01557064414| 3.385687124091698|1.1931218549319255E9|\n",
      "| stddev|35102.62524746777|                null|              null| 81707.40009148893|1.1139728783833733|2.1604822852233458E8|\n",
      "|    min|                1|\"\"\"Great Performa...|(no genres listed)|                 1|                 0|          1000000065|\n",
      "|    25%|             1099|                null|              null|             71210|                 3|        9.98614809E8|\n",
      "|    50%|             2716|                null|              null|            142009|                 3|       1.174252114E9|\n",
      "|    75%|             7151|                null|              null|            212470|                 4|       1.422730806E9|\n",
      "|    max|           193886|     줄탁동시 (2012)|           Western|            283228|                 5|           999999978|\n",
      "+-------+-----------------+--------------------+------------------+------------------+------------------+--------------------+\n",
      "\n"
     ]
    }
   ],
   "source": [
    "movielens_df.summary().show()"
   ]
  },
  {
   "cell_type": "code",
   "execution_count": 43,
   "metadata": {},
   "outputs": [],
   "source": [
    "train,test = movielens_df.randomSplit([0.8, 0.2], seed = 42)"
   ]
  },
  {
   "cell_type": "code",
   "execution_count": 44,
   "metadata": {},
   "outputs": [],
   "source": [
    "als = ALS(rank = 10, maxIter = 10, regParam = 0.1, userCol = 'userId', itemCol = 'movieId', ratingCol = 'rating', coldStartStrategy = 'drop')"
   ]
  },
  {
   "cell_type": "code",
   "execution_count": 45,
   "metadata": {},
   "outputs": [
    {
     "name": "stdout",
     "output_type": "stream",
     "text": [
      "173.67227816581726\n"
     ]
    }
   ],
   "source": [
    "time_start = time.time()\n",
    "model = als.fit(train)\n",
    "time_end = time.time() - time_start\n",
    "\n",
    "print(time_end)"
   ]
  },
  {
   "cell_type": "code",
   "execution_count": 46,
   "metadata": {},
   "outputs": [],
   "source": [
    "pred = model.transform(test)"
   ]
  },
  {
   "cell_type": "code",
   "execution_count": 47,
   "metadata": {},
   "outputs": [
    {
     "name": "stdout",
     "output_type": "stream",
     "text": [
      "+-------+--------------------+--------------------+------+------+----------+----------+\n",
      "|movieId|               title|              genres|userId|rating| timestamp|prediction|\n",
      "+-------+--------------------+--------------------+------+------+----------+----------+\n",
      "|     45|   To Die For (1995)|Comedy|Drama|Thri...|    12|     3|1108087163| 2.1131363|\n",
      "|    596|    Pinocchio (1940)|Animation|Childre...|    12|     2|1108087132| 2.3734608|\n",
      "|   1090|      Platoon (1986)|           Drama|War|    12|     3|1108087090| 2.5467796|\n",
      "|   2353|Enemy of the Stat...|     Action|Thriller|    12|     2|1108087149| 2.4383225|\n",
      "|    594|Snow White and th...|Animation|Childre...|    22|     3|1237622610| 3.3298824|\n",
      "|    919|Wizard of Oz, The...|Adventure|Childre...|    22|     4|1237622618|  3.505258|\n",
      "|    953|It's a Wonderful ...|Children|Drama|Fa...|    22|     3|1237622628| 3.6557693|\n",
      "|   1588|George of the Jun...|     Children|Comedy|    22|     4|1237622408| 2.2654922|\n",
      "|   1894|Six Days Seven Ni...|Adventure|Comedy|...|    22|     3|1237622350| 1.7900378|\n",
      "|   2087|    Peter Pan (1953)|Animation|Childre...|    22|     4|1237622286| 3.2669456|\n",
      "|   4886|Monsters, Inc. (2...|Adventure|Animati...|    22|     3|1237622622|  3.763876|\n",
      "|    292|     Outbreak (1995)|Action|Drama|Sci-...|    26|     4|1225242991|  3.573862|\n",
      "|   1268|Pump Up the Volum...|        Comedy|Drama|    26|     4|1225242997|  3.634669|\n",
      "|   1270|Back to the Futur...|Adventure|Comedy|...|    26|     5|1225239244| 4.1241703|\n",
      "|   1275|   Highlander (1986)|Action|Adventure|...|    26|     4|1225242940|  4.014201|\n",
      "|   1356|Star Trek: First ...|Action|Adventure|...|    26|     5|1225240808| 4.1961203|\n",
      "|   1375|Star Trek III: Th...|Action|Adventure|...|    26|     5|1225242781| 3.9936237|\n",
      "|   2003|     Gremlins (1984)|       Comedy|Horror|    26|     4|1225242934| 3.5979776|\n",
      "|   2046|Flight of the Nav...|Adventure|Childre...|    26|     4|1225232216| 3.9753942|\n",
      "|   2105|         Tron (1982)|Action|Adventure|...|    26|     5|1225243297| 3.9767501|\n",
      "+-------+--------------------+--------------------+------+------+----------+----------+\n",
      "only showing top 20 rows\n",
      "\n"
     ]
    }
   ],
   "source": [
    "pred.show()"
   ]
  },
  {
   "cell_type": "code",
   "execution_count": 48,
   "metadata": {},
   "outputs": [],
   "source": [
    "# pred.na.drop()"
   ]
  },
  {
   "cell_type": "code",
   "execution_count": 49,
   "metadata": {},
   "outputs": [],
   "source": [
    "eval = RegressionEvaluator(metricName = 'rmse', labelCol = 'rating', predictionCol = 'prediction')"
   ]
  },
  {
   "cell_type": "code",
   "execution_count": 50,
   "metadata": {},
   "outputs": [],
   "source": [
    "rmse = eval.evaluate(pred)"
   ]
  },
  {
   "cell_type": "code",
   "execution_count": 51,
   "metadata": {},
   "outputs": [
    {
     "data": {
      "text/plain": [
       "0.85318583981638"
      ]
     },
     "execution_count": 51,
     "metadata": {},
     "output_type": "execute_result"
    }
   ],
   "source": [
    "rmse"
   ]
  },
  {
   "cell_type": "code",
   "execution_count": 52,
   "metadata": {},
   "outputs": [],
   "source": [
    "user_2 = test.filter(test['userId'] == 2).select(['userId', 'movieId', 'title', 'rating'])"
   ]
  },
  {
   "cell_type": "code",
   "execution_count": 53,
   "metadata": {},
   "outputs": [
    {
     "name": "stdout",
     "output_type": "stream",
     "text": [
      "+------+-------+--------------------+------+\n",
      "|userId|movieId|               title|rating|\n",
      "+------+-------+--------------------+------+\n",
      "|     2|   1235|Harold and Maude ...|     3|\n",
      "|     2|   1663|      Stripes (1981)|     3|\n",
      "|     2|   2108|   L.A. Story (1991)|     3|\n",
      "+------+-------+--------------------+------+\n",
      "\n"
     ]
    }
   ],
   "source": [
    "user_2.show()"
   ]
  },
  {
   "cell_type": "code",
   "execution_count": 54,
   "metadata": {},
   "outputs": [
    {
     "name": "stdout",
     "output_type": "stream",
     "text": [
      "+------+-------+--------------------+------+----------+\n",
      "|userId|movieId|               title|rating|prediction|\n",
      "+------+-------+--------------------+------+----------+\n",
      "|     2|   1235|Harold and Maude ...|     3|         4|\n",
      "|     2|   1663|      Stripes (1981)|     3|         3|\n",
      "|     2|   2108|   L.A. Story (1991)|     3|         3|\n",
      "+------+-------+--------------------+------+----------+\n",
      "\n"
     ]
    }
   ],
   "source": [
    "rec = model.transform(user_2)\n",
    "prediction_whole = rec.withColumn('prediction', f.round(rec['prediction']).cast('integer'))\n",
    "prediction_bound = prediction_whole.withColumn('prediction', f.when(prediction_whole['prediction'] >= 5, 5).when(prediction_whole['prediction'] <= 0, 0).otherwise(prediction_whole['prediction']))\n",
    "prediction_bound.orderBy('prediction', ascending=False).show()"
   ]
  },
  {
   "cell_type": "code",
   "execution_count": 55,
   "metadata": {},
   "outputs": [],
   "source": [
    "from pyspark.sql.functions import lit\n",
    "\n",
    "def recommendMovies(model, user, nbRecommendations):\n",
    "    dataset = movielens.select('movieId', 'title', 'genres').distinct().withColumn('userId', lit(user))\n",
    "    \n",
    "    moviesAlreadyRated = movielens.filter(movielens.userId == user).select('movieId', 'title', 'genres','userId')\n",
    "    \n",
    "    predictions = model.transform(dataset.subtract(moviesAlreadyRated)).dropna().orderBy('prediction', ascending=False).limit(nbRecommendations).select('movieId', 'title', 'genres', 'prediction')\n",
    "    \n",
    "    prediction_whole = predictions.withColumn('prediction', f.round(predictions['prediction']).cast('integer'))\n",
    "    prediction_bound = prediction_whole.withColumn('prediction', f.when(prediction_whole['prediction'] >= 5, 5).when(prediction_whole['prediction'] <= 0, 0).otherwise(prediction_whole['prediction']))\n",
    "    \n",
    "    return prediction_bound"
   ]
  },
  {
   "cell_type": "code",
   "execution_count": 56,
   "metadata": {},
   "outputs": [
    {
     "name": "stdout",
     "output_type": "stream",
     "text": [
      "Recommendations for user 2: \n"
     ]
    },
    {
     "data": {
      "text/html": [
       "<div>\n",
       "<style scoped>\n",
       "    .dataframe tbody tr th:only-of-type {\n",
       "        vertical-align: middle;\n",
       "    }\n",
       "\n",
       "    .dataframe tbody tr th {\n",
       "        vertical-align: top;\n",
       "    }\n",
       "\n",
       "    .dataframe thead th {\n",
       "        text-align: right;\n",
       "    }\n",
       "</style>\n",
       "<table border=\"1\" class=\"dataframe\">\n",
       "  <thead>\n",
       "    <tr style=\"text-align: right;\">\n",
       "      <th></th>\n",
       "      <th>movieId</th>\n",
       "      <th>title</th>\n",
       "      <th>genres</th>\n",
       "      <th>prediction</th>\n",
       "    </tr>\n",
       "  </thead>\n",
       "  <tbody>\n",
       "    <tr>\n",
       "      <th>0</th>\n",
       "      <td>184299</td>\n",
       "      <td>Freedom on My Mind (1994)</td>\n",
       "      <td>Documentary</td>\n",
       "      <td>5</td>\n",
       "    </tr>\n",
       "    <tr>\n",
       "      <th>1</th>\n",
       "      <td>154402</td>\n",
       "      <td>Pünktchen und Anton (1999)</td>\n",
       "      <td>Children</td>\n",
       "      <td>5</td>\n",
       "    </tr>\n",
       "    <tr>\n",
       "      <th>2</th>\n",
       "      <td>176363</td>\n",
       "      <td>The Children of the Marshland (1999)</td>\n",
       "      <td>Comedy|Drama</td>\n",
       "      <td>5</td>\n",
       "    </tr>\n",
       "    <tr>\n",
       "      <th>3</th>\n",
       "      <td>160197</td>\n",
       "      <td>The Hive (2008)</td>\n",
       "      <td>Horror|Sci-Fi</td>\n",
       "      <td>5</td>\n",
       "    </tr>\n",
       "    <tr>\n",
       "      <th>4</th>\n",
       "      <td>192089</td>\n",
       "      <td>National Theatre Live: One Man, Two Guvnors (2...</td>\n",
       "      <td>Comedy</td>\n",
       "      <td>5</td>\n",
       "    </tr>\n",
       "    <tr>\n",
       "      <th>5</th>\n",
       "      <td>178147</td>\n",
       "      <td>Beatles Stories (2011)</td>\n",
       "      <td>Documentary</td>\n",
       "      <td>5</td>\n",
       "    </tr>\n",
       "    <tr>\n",
       "      <th>6</th>\n",
       "      <td>121919</td>\n",
       "      <td>The Good Mother (2013)</td>\n",
       "      <td>Drama|Mystery|Thriller</td>\n",
       "      <td>5</td>\n",
       "    </tr>\n",
       "    <tr>\n",
       "      <th>7</th>\n",
       "      <td>120821</td>\n",
       "      <td>The War at Home (1979)</td>\n",
       "      <td>Documentary|War</td>\n",
       "      <td>5</td>\n",
       "    </tr>\n",
       "    <tr>\n",
       "      <th>8</th>\n",
       "      <td>157789</td>\n",
       "      <td>.hack Liminality In the Case of Yuki Aihara</td>\n",
       "      <td>(no genres listed)</td>\n",
       "      <td>5</td>\n",
       "    </tr>\n",
       "    <tr>\n",
       "      <th>9</th>\n",
       "      <td>157791</td>\n",
       "      <td>.hack Liminality In the Case of Kyoko Tohno</td>\n",
       "      <td>(no genres listed)</td>\n",
       "      <td>5</td>\n",
       "    </tr>\n",
       "  </tbody>\n",
       "</table>\n",
       "</div>"
      ],
      "text/plain": [
       "   movieId                                              title  \\\n",
       "0   184299                          Freedom on My Mind (1994)   \n",
       "1   154402                         Pünktchen und Anton (1999)   \n",
       "2   176363               The Children of the Marshland (1999)   \n",
       "3   160197                                    The Hive (2008)   \n",
       "4   192089  National Theatre Live: One Man, Two Guvnors (2...   \n",
       "5   178147                             Beatles Stories (2011)   \n",
       "6   121919                             The Good Mother (2013)   \n",
       "7   120821                             The War at Home (1979)   \n",
       "8   157789        .hack Liminality In the Case of Yuki Aihara   \n",
       "9   157791        .hack Liminality In the Case of Kyoko Tohno   \n",
       "\n",
       "                   genres  prediction  \n",
       "0             Documentary           5  \n",
       "1                Children           5  \n",
       "2            Comedy|Drama           5  \n",
       "3           Horror|Sci-Fi           5  \n",
       "4                  Comedy           5  \n",
       "5             Documentary           5  \n",
       "6  Drama|Mystery|Thriller           5  \n",
       "7         Documentary|War           5  \n",
       "8      (no genres listed)           5  \n",
       "9      (no genres listed)           5  "
      ]
     },
     "execution_count": 56,
     "metadata": {},
     "output_type": "execute_result"
    }
   ],
   "source": [
    "print('Recommendations for user 2: ')\n",
    "recommendMovies(model, 2, 10).toPandas()"
   ]
  },
  {
   "cell_type": "code",
   "execution_count": 57,
   "metadata": {},
   "outputs": [
    {
     "name": "stdout",
     "output_type": "stream",
     "text": [
      "12\n"
     ]
    }
   ],
   "source": [
    "#Hyperparameter Tuning\n",
    "from pyspark.ml.tuning import CrossValidator, ParamGridBuilder\n",
    "\n",
    "X_train, X_validation = movielens_df.randomSplit([0.8, 0.2], seed = 42)\n",
    "paramGrid = ParamGridBuilder().addGrid(als.rank, [1, 5, 10, 20]).addGrid(als.regParam, [0.01, 0.05, 0.1]).build()\n",
    "\n",
    "crossval = CrossValidator(estimator = als, estimatorParamMaps = paramGrid, evaluator = eval, numFolds = 3)\n",
    "print(len(paramGrid))\n",
    "\n",
    "# cvModel = crossval.fit(X_train)\n",
    "# predictions = cvModel.transform(X_validation)\n",
    "# print('the root mean squared error for our model is: {}'.format(eval.evaluate(predictions)))"
   ]
  },
  {
   "cell_type": "code",
   "execution_count": 58,
   "metadata": {},
   "outputs": [
    {
     "name": "stdout",
     "output_type": "stream",
     "text": [
      "4844.88573050499\n"
     ]
    }
   ],
   "source": [
    "import time\n",
    "\n",
    "time_start = time.time()\n",
    "cvModel = crossval.fit(X_train)\n",
    "time_end = time.time() - time_start\n",
    "\n",
    "print(time_end)"
   ]
  },
  {
   "cell_type": "code",
   "execution_count": 59,
   "metadata": {},
   "outputs": [],
   "source": [
    "bestModel = cvModel.bestModel"
   ]
  },
  {
   "cell_type": "code",
   "execution_count": 60,
   "metadata": {},
   "outputs": [
    {
     "name": "stdout",
     "output_type": "stream",
     "text": [
      "{Param(parent='ALS_c105af5c890b', name='rank', doc='rank of the factorization'): 1, Param(parent='ALS_c105af5c890b', name='regParam', doc='regularization parameter (>= 0).'): 0.01}\n"
     ]
    }
   ],
   "source": [
    "import numpy as np\n",
    "print(cvModel.getEstimatorParamMaps()[np.argmax(cvModel.avgMetrics)])"
   ]
  },
  {
   "cell_type": "code",
   "execution_count": 61,
   "metadata": {},
   "outputs": [
    {
     "data": {
      "text/html": [
       "<div>\n",
       "<style scoped>\n",
       "    .dataframe tbody tr th:only-of-type {\n",
       "        vertical-align: middle;\n",
       "    }\n",
       "\n",
       "    .dataframe tbody tr th {\n",
       "        vertical-align: top;\n",
       "    }\n",
       "\n",
       "    .dataframe thead th {\n",
       "        text-align: right;\n",
       "    }\n",
       "</style>\n",
       "<table border=\"1\" class=\"dataframe\">\n",
       "  <thead>\n",
       "    <tr style=\"text-align: right;\">\n",
       "      <th></th>\n",
       "      <th>movieId</th>\n",
       "      <th>title</th>\n",
       "      <th>genres</th>\n",
       "      <th>prediction</th>\n",
       "    </tr>\n",
       "  </thead>\n",
       "  <tbody>\n",
       "    <tr>\n",
       "      <th>0</th>\n",
       "      <td>184299</td>\n",
       "      <td>Freedom on My Mind (1994)</td>\n",
       "      <td>Documentary</td>\n",
       "      <td>5</td>\n",
       "    </tr>\n",
       "    <tr>\n",
       "      <th>1</th>\n",
       "      <td>192089</td>\n",
       "      <td>National Theatre Live: One Man, Two Guvnors (2...</td>\n",
       "      <td>Comedy</td>\n",
       "      <td>5</td>\n",
       "    </tr>\n",
       "    <tr>\n",
       "      <th>2</th>\n",
       "      <td>190707</td>\n",
       "      <td>1968 (2018)</td>\n",
       "      <td>(no genres listed)</td>\n",
       "      <td>5</td>\n",
       "    </tr>\n",
       "    <tr>\n",
       "      <th>3</th>\n",
       "      <td>166812</td>\n",
       "      <td>Seeing Red: Stories of American Communists (1983)</td>\n",
       "      <td>(no genres listed)</td>\n",
       "      <td>5</td>\n",
       "    </tr>\n",
       "    <tr>\n",
       "      <th>4</th>\n",
       "      <td>185959</td>\n",
       "      <td>Wajib (2017)</td>\n",
       "      <td>Drama</td>\n",
       "      <td>5</td>\n",
       "    </tr>\n",
       "    <tr>\n",
       "      <th>5</th>\n",
       "      <td>120821</td>\n",
       "      <td>The War at Home (1979)</td>\n",
       "      <td>Documentary|War</td>\n",
       "      <td>5</td>\n",
       "    </tr>\n",
       "    <tr>\n",
       "      <th>6</th>\n",
       "      <td>189643</td>\n",
       "      <td>The Cakemaker (2017)</td>\n",
       "      <td>Drama</td>\n",
       "      <td>5</td>\n",
       "    </tr>\n",
       "    <tr>\n",
       "      <th>7</th>\n",
       "      <td>176363</td>\n",
       "      <td>The Children of the Marshland (1999)</td>\n",
       "      <td>Comedy|Drama</td>\n",
       "      <td>5</td>\n",
       "    </tr>\n",
       "    <tr>\n",
       "      <th>8</th>\n",
       "      <td>157789</td>\n",
       "      <td>.hack Liminality In the Case of Yuki Aihara</td>\n",
       "      <td>(no genres listed)</td>\n",
       "      <td>5</td>\n",
       "    </tr>\n",
       "    <tr>\n",
       "      <th>9</th>\n",
       "      <td>157791</td>\n",
       "      <td>.hack Liminality In the Case of Kyoko Tohno</td>\n",
       "      <td>(no genres listed)</td>\n",
       "      <td>5</td>\n",
       "    </tr>\n",
       "  </tbody>\n",
       "</table>\n",
       "</div>"
      ],
      "text/plain": [
       "   movieId                                              title  \\\n",
       "0   184299                          Freedom on My Mind (1994)   \n",
       "1   192089  National Theatre Live: One Man, Two Guvnors (2...   \n",
       "2   190707                                        1968 (2018)   \n",
       "3   166812  Seeing Red: Stories of American Communists (1983)   \n",
       "4   185959                                       Wajib (2017)   \n",
       "5   120821                             The War at Home (1979)   \n",
       "6   189643                               The Cakemaker (2017)   \n",
       "7   176363               The Children of the Marshland (1999)   \n",
       "8   157789        .hack Liminality In the Case of Yuki Aihara   \n",
       "9   157791        .hack Liminality In the Case of Kyoko Tohno   \n",
       "\n",
       "               genres  prediction  \n",
       "0         Documentary           5  \n",
       "1              Comedy           5  \n",
       "2  (no genres listed)           5  \n",
       "3  (no genres listed)           5  \n",
       "4               Drama           5  \n",
       "5     Documentary|War           5  \n",
       "6               Drama           5  \n",
       "7        Comedy|Drama           5  \n",
       "8  (no genres listed)           5  \n",
       "9  (no genres listed)           5  "
      ]
     },
     "execution_count": 61,
     "metadata": {},
     "output_type": "execute_result"
    }
   ],
   "source": [
    "recommendMovies(bestModel, 2, 10).toPandas()"
   ]
  },
  {
   "cell_type": "code",
   "execution_count": 62,
   "metadata": {},
   "outputs": [
    {
     "name": "stdout",
     "output_type": "stream",
     "text": [
      "the root mean squared error for our model is: 0.8497747827347868\n"
     ]
    }
   ],
   "source": [
    "predictions = bestModel.transform(X_validation)\n",
    "\n",
    "print('the root mean squared error for our model is: {}'.format(eval.evaluate(predictions)))"
   ]
  },
  {
   "cell_type": "markdown",
   "metadata": {},
   "source": [
    "# To Do\n",
    "1. get average ratings for each movie\n",
    "2. fill in average rating into the null values\n",
    "3. compare cold start to filling in na with the average\n",
    "4. Make the rating whole numbers if greater than 5 cap it at 5, if less than 0 cap at 0"
   ]
  },
  {
   "cell_type": "code",
   "execution_count": 63,
   "metadata": {},
   "outputs": [],
   "source": [
    "#Average rating for each movie\n",
    "mean_ratings= movielens_df.groupBy('title').agg(f.avg('rating').alias('mean_rating'))"
   ]
  },
  {
   "cell_type": "code",
   "execution_count": 64,
   "metadata": {},
   "outputs": [],
   "source": [
    "#Join the mean ratings with original dataframe\n",
    "final_df = movielens_df.join(mean_ratings, on='title')"
   ]
  },
  {
   "cell_type": "code",
   "execution_count": 65,
   "metadata": {},
   "outputs": [],
   "source": [
    "#fill the missing values with the mean rating\n",
    "final_df = final_df.na.fill({'rating' : 'mean_rating'})"
   ]
  },
  {
   "cell_type": "code",
   "execution_count": 66,
   "metadata": {},
   "outputs": [
    {
     "name": "stdout",
     "output_type": "stream",
     "text": [
      "Dropping null ratings from the dataset: 0.8497747827347868\n",
      "Filling null with average rating: 0.8020461782514533\n"
     ]
    }
   ],
   "source": [
    "#Compare the cold start to the new dataset\n",
    "X_train,X_test = final_df.randomSplit([0.8, 0.2], seed = 42)\n",
    "prediction = bestModel.transform(test)\n",
    "prediction_2 = bestModel.transform(X_test)\n",
    "rmse = eval.evaluate(prediction)\n",
    "rmse_2 = eval.evaluate(prediction_2)\n",
    "print(f'Dropping null ratings from the dataset: {rmse}')\n",
    "print(f'Filling null with average rating: {rmse_2}')"
   ]
  },
  {
   "cell_type": "code",
   "execution_count": 67,
   "metadata": {},
   "outputs": [],
   "source": [
    "#Make the ratings whole numbers and in range [0,5]\n",
    "prediction_whole = prediction.withColumn('prediction', f.round(prediction['prediction']).cast('integer'))\n",
    "prediction_bound = prediction_whole.withColumn('prediction', f.when(prediction_whole['prediction'] >= 5, 5).when(prediction_whole['prediction'] <= 0, 0).otherwise(prediction_whole['prediction']))"
   ]
  },
  {
   "cell_type": "code",
   "execution_count": 68,
   "metadata": {},
   "outputs": [
    {
     "name": "stdout",
     "output_type": "stream",
     "text": [
      "+-------+--------------------+--------------------+------+------+----------+----------+\n",
      "|movieId|               title|              genres|userId|rating| timestamp|prediction|\n",
      "+-------+--------------------+--------------------+------+------+----------+----------+\n",
      "|     45|   To Die For (1995)|Comedy|Drama|Thri...|    12|     3|1108087163|         2|\n",
      "|    596|    Pinocchio (1940)|Animation|Childre...|    12|     2|1108087132|         2|\n",
      "|   1090|      Platoon (1986)|           Drama|War|    12|     3|1108087090|         3|\n",
      "|   2353|Enemy of the Stat...|     Action|Thriller|    12|     2|1108087149|         2|\n",
      "|    594|Snow White and th...|Animation|Childre...|    22|     3|1237622610|         3|\n",
      "|    919|Wizard of Oz, The...|Adventure|Childre...|    22|     4|1237622618|         3|\n",
      "|    953|It's a Wonderful ...|Children|Drama|Fa...|    22|     3|1237622628|         4|\n",
      "|   1588|George of the Jun...|     Children|Comedy|    22|     4|1237622408|         2|\n",
      "|   1894|Six Days Seven Ni...|Adventure|Comedy|...|    22|     3|1237622350|         2|\n",
      "|   2087|    Peter Pan (1953)|Animation|Childre...|    22|     4|1237622286|         3|\n",
      "|   4886|Monsters, Inc. (2...|Adventure|Animati...|    22|     3|1237622622|         4|\n",
      "|    292|     Outbreak (1995)|Action|Drama|Sci-...|    26|     4|1225242991|         4|\n",
      "|   1268|Pump Up the Volum...|        Comedy|Drama|    26|     4|1225242997|         4|\n",
      "|   1270|Back to the Futur...|Adventure|Comedy|...|    26|     5|1225239244|         4|\n",
      "|   1275|   Highlander (1986)|Action|Adventure|...|    26|     4|1225242940|         4|\n",
      "|   1356|Star Trek: First ...|Action|Adventure|...|    26|     5|1225240808|         4|\n",
      "|   1375|Star Trek III: Th...|Action|Adventure|...|    26|     5|1225242781|         4|\n",
      "|   2003|     Gremlins (1984)|       Comedy|Horror|    26|     4|1225242934|         4|\n",
      "|   2046|Flight of the Nav...|Adventure|Childre...|    26|     4|1225232216|         4|\n",
      "|   2105|         Tron (1982)|Action|Adventure|...|    26|     5|1225243297|         4|\n",
      "+-------+--------------------+--------------------+------+------+----------+----------+\n",
      "only showing top 20 rows\n",
      "\n"
     ]
    }
   ],
   "source": [
    "prediction_bound.show()"
   ]
  },
  {
   "cell_type": "code",
   "execution_count": 69,
   "metadata": {},
   "outputs": [
    {
     "data": {
      "text/plain": [
       "[Row(movieId=5120, title='Sleuth (1972)', genres='Comedy|Mystery|Thriller', userId=283228, rating=4, timestamp='1379882757'),\n",
       " Row(movieId=5502, title='Signs (2002)', genres='Horror|Sci-Fi|Thriller', userId=283228, rating=3, timestamp='1354159739'),\n",
       " Row(movieId=5602, title='Ladykillers, The (1955)', genres='Comedy|Crime', userId=283228, rating=4, timestamp='1379882734'),\n",
       " Row(movieId=5706, title='...All the Marbles (1981)', genres='Comedy|Drama', userId=283228, rating=1, timestamp='1354159591'),\n",
       " Row(movieId=5989, title='Catch Me If You Can (2002)', genres='Crime|Drama', userId=283228, rating=4, timestamp='1379882974'),\n",
       " Row(movieId=6377, title='Finding Nemo (2003)', genres='Adventure|Animation|Children|Comedy', userId=283228, rating=5, timestamp='1379882837'),\n",
       " Row(movieId=6874, title='Kill Bill: Vol. 1 (2003)', genres='Action|Crime|Thriller', userId=283228, rating=4, timestamp='1354159613'),\n",
       " Row(movieId=7072, title='Stagecoach (1939)', genres='Action|Drama|Romance|Western', userId=283228, rating=5, timestamp='1379882920'),\n",
       " Row(movieId=7091, title='Horse Feathers (1932)', genres='Comedy', userId=283228, rating=4, timestamp='1379882761'),\n",
       " Row(movieId=7121, title=\"Adam's Rib (1949)\", genres='Comedy|Romance', userId=283228, rating=4, timestamp='1379882896'),\n",
       " Row(movieId=7132, title='Night at the Opera, A (1935)', genres='Comedy|Musical|Romance', userId=283228, rating=4, timestamp='1379882876'),\n",
       " Row(movieId=7215, title='To Have and Have Not (1944)', genres='Adventure|Drama|Romance|Thriller|War', userId=283228, rating=4, timestamp='1354137333'),\n",
       " Row(movieId=7831, title='Another Thin Man (1939)', genres='Comedy|Crime|Drama|Mystery|Romance', userId=283228, rating=5, timestamp='1379882907'),\n",
       " Row(movieId=7834, title='After the Thin Man (1936)', genres='Comedy|Crime|Mystery|Romance', userId=283228, rating=5, timestamp='1379882865'),\n",
       " Row(movieId=8228, title='Maltese Falcon, The (a.k.a. Dangerous Female) (1931)', genres='Mystery', userId=283228, rating=5, timestamp='1354137317'),\n",
       " Row(movieId=8542, title='Day at the Races, A (1937)', genres='Comedy|Musical', userId=283228, rating=4, timestamp='1379882795'),\n",
       " Row(movieId=8712, title='My Favorite Wife (1940)', genres='Comedy|Romance', userId=283228, rating=4, timestamp='1379882751'),\n",
       " Row(movieId=34405, title='Serenity (2005)', genres='Action|Adventure|Sci-Fi', userId=283228, rating=4, timestamp='1379882889'),\n",
       " Row(movieId=44761, title='Brick (2005)', genres='Crime|Drama|Film-Noir|Mystery', userId=283228, rating=4, timestamp='1354159524'),\n",
       " Row(movieId=54286, title='Bourne Ultimatum, The (2007)', genres='Action|Crime|Thriller', userId=283228, rating=4, timestamp='1354159718')]"
      ]
     },
     "execution_count": 69,
     "metadata": {},
     "output_type": "execute_result"
    }
   ],
   "source": [
    "movielens_df.tail(20)"
   ]
  },
  {
   "cell_type": "code",
   "execution_count": 70,
   "metadata": {},
   "outputs": [],
   "source": [
    "movielens_df.createOrReplaceTempView('Movies')"
   ]
  },
  {
   "cell_type": "code",
   "execution_count": 71,
   "metadata": {},
   "outputs": [
    {
     "name": "stdout",
     "output_type": "stream",
     "text": [
      "+-------+--------------------+--------------------+------+------+----------+\n",
      "|movieId|               title|              genres|userId|rating| timestamp|\n",
      "+-------+--------------------+--------------------+------+------+----------+\n",
      "|    307|Three Colors: Blu...|               Drama|     1|     3|1256677221|\n",
      "|    481|   Kalifornia (1993)|      Drama|Thriller|     1|     3|1256677456|\n",
      "|   1091|Weekend at Bernie...|              Comedy|     1|     1|1256677471|\n",
      "|   1257|Better Off Dead.....|      Comedy|Romance|     1|     4|1256677460|\n",
      "|   1449|Waiting for Guffm...|              Comedy|     1|     4|1256677264|\n",
      "|   1590|Event Horizon (1997)|Horror|Sci-Fi|Thr...|     1|     2|1256677236|\n",
      "|   1591|        Spawn (1997)|Action|Adventure|...|     1|     1|1256677475|\n",
      "|   2134|Weird Science (1985)|Comedy|Fantasy|Sc...|     1|     4|1256677464|\n",
      "|   2478|¡Three Amigos! (1...|      Comedy|Western|     1|     4|1256677239|\n",
      "|   2840|     Stigmata (1999)|      Drama|Thriller|     1|     3|1256677500|\n",
      "+-------+--------------------+--------------------+------+------+----------+\n",
      "only showing top 10 rows\n",
      "\n"
     ]
    }
   ],
   "source": [
    "movielens_df.show(10)"
   ]
  },
  {
   "cell_type": "code",
   "execution_count": 72,
   "metadata": {},
   "outputs": [
    {
     "name": "stdout",
     "output_type": "stream",
     "text": [
      "+--------------------+-----------------+\n",
      "|               title|number_of_ratings|\n",
      "+--------------------+-----------------+\n",
      "|Silence of the La...|            38491|\n",
      "+--------------------+-----------------+\n",
      "\n",
      "Movie that has the most 4 star rating: Silence of the Lambs, The (1991) with a count of: 38491\n"
     ]
    }
   ],
   "source": [
    "# What movie has the most 4 star ratings\n",
    "most_four_star = 'SELECT title, count(*) as number_of_ratings from Movies where rating == 4 group by title order by number_of_ratings desc limit 1'\n",
    "spark.sql(most_four_star).show()\n",
    "\n",
    "#Movie that has the most 4 star rating\n",
    "four_df = movielens_df.filter('rating == 4.0')\n",
    "rat_df = four_df.groupBy('rating', 'title').count().withColumnRenamed('count', 'num_of_ratings')\n",
    "sort_rat_df = rat_df.sort(rat_df['num_of_ratings'].desc())\n",
    "print(f'Movie that has the most 4 star rating: {sort_rat_df.first().title} with a count of: {sort_rat_df.first().num_of_ratings}')"
   ]
  },
  {
   "cell_type": "code",
   "execution_count": 73,
   "metadata": {},
   "outputs": [
    {
     "name": "stdout",
     "output_type": "stream",
     "text": [
      "+--------------------+-----------------+\n",
      "|               title|number_of_ratings|\n",
      "+--------------------+-----------------+\n",
      "|Shawshank Redempt...|            97999|\n",
      "+--------------------+-----------------+\n",
      "\n",
      "Movie that has the most ratings: Shawshank Redemption, The (1994) with a count of 97999\n"
     ]
    }
   ],
   "source": [
    "#What movie has the most ratings\n",
    "most_ratings = 'SELECT title, count(*) as number_of_ratings from Movies group by title order by number_of_ratings desc limit 1'\n",
    "spark.sql(most_ratings).show()\n",
    "\n",
    "most_ratings = movielens_df.groupBy('title').count().withColumnRenamed('count', 'num_of_reviews')\n",
    "sorted_ratings = most_ratings.sort(most_ratings['num_of_reviews'].desc())\n",
    "print(f'Movie that has the most ratings: {sorted_ratings.first().title} with a count of {sorted_ratings.first().num_of_reviews}')"
   ]
  },
  {
   "cell_type": "code",
   "execution_count": 74,
   "metadata": {},
   "outputs": [
    {
     "name": "stdout",
     "output_type": "stream",
     "text": [
      "+--------------------+-----------------+\n",
      "|               title|number_of_ratings|\n",
      "+--------------------+-----------------+\n",
      "|The 12 Disasters ...|                1|\n",
      "+--------------------+-----------------+\n",
      "\n",
      "Movie that has the least ratings: The 12 Disasters of Christmas (2012) with a count of 1\n"
     ]
    }
   ],
   "source": [
    "#What movie has the least ratings\n",
    "least_ratings = 'SELECT title, count(*) as number_of_ratings from Movies group by title order by number_of_ratings asc limit 1'\n",
    "spark.sql(least_ratings).show()\n",
    "\n",
    "sorted_ratings = most_ratings.sort(most_ratings['num_of_reviews'].asc())\n",
    "print(f'Movie that has the least ratings: {sorted_ratings.first().title} with a count of {sorted_ratings.first().num_of_reviews}')"
   ]
  },
  {
   "cell_type": "code",
   "execution_count": 75,
   "metadata": {},
   "outputs": [
    {
     "name": "stdout",
     "output_type": "stream",
     "text": [
      "+------+-----------------+\n",
      "|userId|number_of_reviews|\n",
      "+------+-----------------+\n",
      "|123100|            23715|\n",
      "+------+-----------------+\n",
      "\n",
      "User with the most reviews: 123100 with a count of 23715\n"
     ]
    }
   ],
   "source": [
    "#Which user had the most reviews\n",
    "most_reviewer = 'SELECT userId, count(*) as number_of_reviews from Movies group by userId order by number_of_reviews desc limit 1'\n",
    "spark.sql(most_reviewer).show()\n",
    "\n",
    "most_reviewer = movielens_df.groupBy('userId').count().withColumnRenamed('count', 'num_of_reviews')\n",
    "sorted_reviewer = most_reviewer.sort(most_reviewer['num_of_reviews'].desc())\n",
    "print(f'User with the most reviews: {sorted_reviewer.first().userId} with a count of {sorted_reviewer.first().num_of_reviews}')"
   ]
  },
  {
   "cell_type": "code",
   "execution_count": 76,
   "metadata": {},
   "outputs": [
    {
     "name": "stdout",
     "output_type": "stream",
     "text": [
      "+------+-----------------+\n",
      "|userId|five_star_reviews|\n",
      "+------+-----------------+\n",
      "| 70346|             2029|\n",
      "+------+-----------------+\n",
      "\n",
      "User that gave the most 5 star reviews: 70346 with a count of: 2029\n"
     ]
    }
   ],
   "source": [
    "#Which user gave the most 5 star reviews\n",
    "most_five_star_reviewer = 'SELECT userId, count(*) as five_star_reviews from Movies where rating = 5 group by userId order by five_star_reviews desc limit 1'\n",
    "spark.sql(most_five_star_reviewer).show()\n",
    "\n",
    "five_df = movielens_df.filter('rating == 5.0')\n",
    "rat_df = five_df.groupBy('userId', 'rating').count().withColumnRenamed('count', 'num_of_ratings')\n",
    "sort_rat_df = rat_df.sort(rat_df['num_of_ratings'].desc())\n",
    "print(f'User that gave the most 5 star reviews: {sort_rat_df.first().userId} with a count of: {sort_rat_df.first().num_of_ratings}')"
   ]
  },
  {
   "cell_type": "code",
   "execution_count": 77,
   "metadata": {},
   "outputs": [
    {
     "name": "stdout",
     "output_type": "stream",
     "text": [
      "+------+----------+\n",
      "|userId|avg_rating|\n",
      "+------+----------+\n",
      "|  9376|       5.0|\n",
      "+------+----------+\n",
      "\n"
     ]
    }
   ],
   "source": [
    "#Which user had the highest average rating\n",
    "\n",
    "highest_avg = 'SELECT userId, avg(rating) AS avg_rating from Movies group by userId order by avg_rating desc limit 1'\n",
    "spark.sql(highest_avg).show()\n",
    "\n"
   ]
  },
  {
   "cell_type": "code",
   "execution_count": 78,
   "metadata": {},
   "outputs": [
    {
     "name": "stdout",
     "output_type": "stream",
     "text": [
      "+--------------------+----------+\n",
      "|               title|avg_rating|\n",
      "+--------------------+----------+\n",
      "|The Hardy Bucks M...|       5.0|\n",
      "+--------------------+----------+\n",
      "\n"
     ]
    }
   ],
   "source": [
    "#Which movie had the highest average rating\n",
    "highest_avg_rating = 'SELECT title, avg(rating) AS avg_rating from Movies group by title order by avg_rating desc limit 1'\n",
    "spark.sql(highest_avg_rating).show()"
   ]
  },
  {
   "cell_type": "code",
   "execution_count": null,
   "metadata": {},
   "outputs": [],
   "source": []
  }
 ],
 "metadata": {
  "kernelspec": {
   "display_name": "Python 3",
   "language": "python",
   "name": "python3"
  },
  "language_info": {
   "codemirror_mode": {
    "name": "ipython",
    "version": 3
   },
   "file_extension": ".py",
   "mimetype": "text/x-python",
   "name": "python",
   "nbconvert_exporter": "python",
   "pygments_lexer": "ipython3",
   "version": "3.8.5"
  }
 },
 "nbformat": 4,
 "nbformat_minor": 4
}
